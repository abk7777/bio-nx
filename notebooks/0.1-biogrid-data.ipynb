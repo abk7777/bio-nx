{
 "cells": [
  {
   "cell_type": "markdown",
   "metadata": {},
   "source": [
    "# BioGRID Protein Interactions"
   ]
  },
  {
   "cell_type": "markdown",
   "metadata": {},
   "source": [
    "## Setup"
   ]
  },
  {
   "cell_type": "code",
   "execution_count": 1,
   "metadata": {},
   "outputs": [],
   "source": [
    "import os\n",
    "import sys\n",
    "sys.path[0] = '../'\n",
    "from dotenv import load_dotenv\n",
    "import numpy as np\n",
    "import pandas as pd\n",
    "import re\n",
    "import requests"
   ]
  },
  {
   "cell_type": "code",
   "execution_count": 2,
   "metadata": {},
   "outputs": [],
   "source": [
    "# Display options\n",
    "pd.options.display.max_rows = None  # display all rows\n",
    "pd.options.display.max_columns = None  # display all columns"
   ]
  },
  {
   "cell_type": "code",
   "execution_count": 3,
   "metadata": {},
   "outputs": [],
   "source": [
    "# Set access key for BioGRID REST API\n",
    "load_dotenv()\n",
    "BIOGRID_ACCESS_KEY = os.getenv('BIOGRID_ACCESS_KEY')\n",
    "NEO4J_HOME = os.getenv('NEO4J_HOME')\n",
    "importDir = '/Users/gregory/Library/Application Support/Neo4j Desktop/Application/neo4jDatabases/database-d0b780b3-ce77-46cc-b7ed-bd0f78a46581/installation-3.5.14/import/'"
   ]
  },
  {
   "cell_type": "markdown",
   "metadata": {},
   "source": [
    "## Import and Clean Data"
   ]
  },
  {
   "cell_type": "code",
   "execution_count": 20,
   "metadata": {},
   "outputs": [],
   "source": [
    "# Loads data and formats columns\n",
    "def load_data(gene_specifier):\n",
    "\n",
    "    if not isinstance(gene_specifier, list): \n",
    "        gene_specifier = gene_specifier\n",
    "    else:\n",
    "        gene_specifier = '|'.join(gene_specifier)\n",
    "    \n",
    "    url = f\"https://webservice.thebiogrid.org/interactions/?searchNames=true&geneList={gene_specifier}\" \\\n",
    "    \"&taxId=9606&includeInteractors=true&includeInteractorInteractions=true&includeHeader=true\" \\\n",
    "    f\"&accesskey={BIOGRID_ACCESS_KEY}\"\n",
    "\n",
    "    # Load data\n",
    "    data = pd.read_csv(url, sep='\\t', header=0)\n",
    "\n",
    "    # Remove leading hash character\n",
    "    data.rename(columns={\"#BioGRID Interaction ID\":\"BioGRID Interaction ID\"}, inplace=True)\n",
    "\n",
    "    # Replace pipe separators with commas\n",
    "    data = data.replace('\\|', ',', regex=True)\n",
    "\n",
    "    # Select str columns and replace '-' with np.nan\n",
    "    cols = ['Systematic Name Interactor A', \n",
    "          'Systematic Name Interactor B', \n",
    "          'Score', \n",
    "          'Modification', \n",
    "          'Phenotypes',\n",
    "          'Qualifications',\n",
    "          'Tags']\n",
    "\n",
    "    data[cols] = data[cols].applymap(lambda col: re.sub(r'^-$', str(np.NaN), col))\n",
    "       \n",
    "    return data"
   ]
  },
  {
   "cell_type": "code",
   "execution_count": 21,
   "metadata": {},
   "outputs": [],
   "source": [
    "# Selects and transforms columns\n",
    "def preprocess_data(data):\n",
    "    \n",
    "     # Convert Score column to float\n",
    "    data['Score'] = data['Score'].astype('float64')\n",
    "    \n",
    "    # Select columns of interest for graph\n",
    "    data = data[['BioGRID Interaction ID', 'Official Symbol Interactor A', 'Entrez Gene Interactor A', \n",
    "                       'Synonyms Interactor A', 'Organism Interactor A', 'Official Symbol Interactor B', \n",
    "                       'Entrez Gene Interactor B', 'Synonyms Interactor B', 'Organism Interactor B', \n",
    "                       'Author', 'Pubmed ID', 'Experimental System', 'Experimental System Type', 'Throughput']]\n",
    "\n",
    "    # Create Year column\n",
    "    data['Publication Year'] = data['Author'].str.split(' ').str[-1].str.strip('()')    \n",
    "    \n",
    "    # Remove Year from Author column\n",
    "    data['Author'] = data['Author'].str.split(' ').str[:2]\n",
    "    data['Author'] = data['Author'].apply(lambda x: ', '.join(x))\n",
    "    \n",
    "    return data"
   ]
  },
  {
   "cell_type": "code",
   "execution_count": 30,
   "metadata": {},
   "outputs": [
    {
     "name": "stderr",
     "output_type": "stream",
     "text": [
      "/Users/gregory/anaconda3/lib/python3.7/site-packages/ipykernel_launcher.py:14: SettingWithCopyWarning: \n",
      "A value is trying to be set on a copy of a slice from a DataFrame.\n",
      "Try using .loc[row_indexer,col_indexer] = value instead\n",
      "\n",
      "See the caveats in the documentation: https://pandas.pydata.org/pandas-docs/stable/user_guide/indexing.html#returning-a-view-versus-a-copy\n",
      "  \n",
      "/Users/gregory/anaconda3/lib/python3.7/site-packages/ipykernel_launcher.py:17: SettingWithCopyWarning: \n",
      "A value is trying to be set on a copy of a slice from a DataFrame.\n",
      "Try using .loc[row_indexer,col_indexer] = value instead\n",
      "\n",
      "See the caveats in the documentation: https://pandas.pydata.org/pandas-docs/stable/user_guide/indexing.html#returning-a-view-versus-a-copy\n",
      "/Users/gregory/anaconda3/lib/python3.7/site-packages/ipykernel_launcher.py:18: SettingWithCopyWarning: \n",
      "A value is trying to be set on a copy of a slice from a DataFrame.\n",
      "Try using .loc[row_indexer,col_indexer] = value instead\n",
      "\n",
      "See the caveats in the documentation: https://pandas.pydata.org/pandas-docs/stable/user_guide/indexing.html#returning-a-view-versus-a-copy\n"
     ]
    }
   ],
   "source": [
    "# Select gene; create for loop and append dataframes for multiple genes\n",
    "gene = 'CYP1A2'\n",
    "genes = ['FECH', 'CYP1A2']\n",
    "\n",
    "# Fetch and clean data\n",
    "data = load_data(genes)\n",
    "data = preprocess_data(data)"
   ]
  },
  {
   "cell_type": "code",
   "execution_count": 31,
   "metadata": {},
   "outputs": [
    {
     "data": {
      "text/plain": [
       "(377, 15)"
      ]
     },
     "execution_count": 31,
     "metadata": {},
     "output_type": "execute_result"
    }
   ],
   "source": [
    "data.shape"
   ]
  },
  {
   "cell_type": "code",
   "execution_count": 32,
   "metadata": {
    "scrolled": false
   },
   "outputs": [
    {
     "data": {
      "text/html": [
       "<div>\n",
       "<style scoped>\n",
       "    .dataframe tbody tr th:only-of-type {\n",
       "        vertical-align: middle;\n",
       "    }\n",
       "\n",
       "    .dataframe tbody tr th {\n",
       "        vertical-align: top;\n",
       "    }\n",
       "\n",
       "    .dataframe thead th {\n",
       "        text-align: right;\n",
       "    }\n",
       "</style>\n",
       "<table border=\"1\" class=\"dataframe\">\n",
       "  <thead>\n",
       "    <tr style=\"text-align: right;\">\n",
       "      <th></th>\n",
       "      <th>BioGRID Interaction ID</th>\n",
       "      <th>Official Symbol Interactor A</th>\n",
       "      <th>Entrez Gene Interactor A</th>\n",
       "      <th>Synonyms Interactor A</th>\n",
       "      <th>Organism Interactor A</th>\n",
       "      <th>Official Symbol Interactor B</th>\n",
       "      <th>Entrez Gene Interactor B</th>\n",
       "      <th>Synonyms Interactor B</th>\n",
       "      <th>Organism Interactor B</th>\n",
       "      <th>Author</th>\n",
       "      <th>Pubmed ID</th>\n",
       "      <th>Experimental System</th>\n",
       "      <th>Experimental System Type</th>\n",
       "      <th>Throughput</th>\n",
       "      <th>Publication Year</th>\n",
       "    </tr>\n",
       "  </thead>\n",
       "  <tbody>\n",
       "    <tr>\n",
       "      <th>0</th>\n",
       "      <td>119392</td>\n",
       "      <td>NELFE</td>\n",
       "      <td>7936</td>\n",
       "      <td>D6S45,NELF-E,RD,RDBP,RDP</td>\n",
       "      <td>9606</td>\n",
       "      <td>NELFB</td>\n",
       "      <td>25920</td>\n",
       "      <td>COBRA1,NELF-B</td>\n",
       "      <td>9606</td>\n",
       "      <td>Lehner, B</td>\n",
       "      <td>14667819</td>\n",
       "      <td>Two-hybrid</td>\n",
       "      <td>physical</td>\n",
       "      <td>Low Throughput</td>\n",
       "      <td>2004</td>\n",
       "    </tr>\n",
       "    <tr>\n",
       "      <th>1</th>\n",
       "      <td>120272</td>\n",
       "      <td>RCBTB2</td>\n",
       "      <td>1102</td>\n",
       "      <td>CHC1L,RLG</td>\n",
       "      <td>9606</td>\n",
       "      <td>RCBTB2</td>\n",
       "      <td>1102</td>\n",
       "      <td>CHC1L,RLG</td>\n",
       "      <td>9606</td>\n",
       "      <td>Rual, JF</td>\n",
       "      <td>16189514</td>\n",
       "      <td>Two-hybrid</td>\n",
       "      <td>physical</td>\n",
       "      <td>High Throughput</td>\n",
       "      <td>2005</td>\n",
       "    </tr>\n",
       "    <tr>\n",
       "      <th>2</th>\n",
       "      <td>241928</td>\n",
       "      <td>NELFCD</td>\n",
       "      <td>51497</td>\n",
       "      <td>NELF-C,NELF-D,TH1,TH1L</td>\n",
       "      <td>9606</td>\n",
       "      <td>NELFE</td>\n",
       "      <td>7936</td>\n",
       "      <td>D6S45,NELF-E,RD,RDBP,RDP</td>\n",
       "      <td>9606</td>\n",
       "      <td>Ewing, RM</td>\n",
       "      <td>17353931</td>\n",
       "      <td>Affinity Capture-MS</td>\n",
       "      <td>physical</td>\n",
       "      <td>High Throughput</td>\n",
       "      <td>2007</td>\n",
       "    </tr>\n",
       "    <tr>\n",
       "      <th>3</th>\n",
       "      <td>242114</td>\n",
       "      <td>NELFCD</td>\n",
       "      <td>51497</td>\n",
       "      <td>NELF-C,NELF-D,TH1,TH1L</td>\n",
       "      <td>9606</td>\n",
       "      <td>NELFB</td>\n",
       "      <td>25920</td>\n",
       "      <td>COBRA1,NELF-B</td>\n",
       "      <td>9606</td>\n",
       "      <td>Ewing, RM</td>\n",
       "      <td>17353931</td>\n",
       "      <td>Affinity Capture-MS</td>\n",
       "      <td>physical</td>\n",
       "      <td>High Throughput</td>\n",
       "      <td>2007</td>\n",
       "    </tr>\n",
       "    <tr>\n",
       "      <th>4</th>\n",
       "      <td>245113</td>\n",
       "      <td>ATM</td>\n",
       "      <td>472</td>\n",
       "      <td>AT1,ATA,ATC,ATD,ATDC,ATE,TEL1,TELO1</td>\n",
       "      <td>9606</td>\n",
       "      <td>ATM</td>\n",
       "      <td>472</td>\n",
       "      <td>AT1,ATA,ATC,ATD,ATDC,ATE,TEL1,TELO1</td>\n",
       "      <td>9606</td>\n",
       "      <td>Kim, ST</td>\n",
       "      <td>10608806</td>\n",
       "      <td>Protein-peptide</td>\n",
       "      <td>physical</td>\n",
       "      <td>Low Throughput</td>\n",
       "      <td>1999</td>\n",
       "    </tr>\n",
       "  </tbody>\n",
       "</table>\n",
       "</div>"
      ],
      "text/plain": [
       "   BioGRID Interaction ID Official Symbol Interactor A  \\\n",
       "0                  119392                        NELFE   \n",
       "1                  120272                       RCBTB2   \n",
       "2                  241928                       NELFCD   \n",
       "3                  242114                       NELFCD   \n",
       "4                  245113                          ATM   \n",
       "\n",
       "   Entrez Gene Interactor A                Synonyms Interactor A  \\\n",
       "0                      7936             D6S45,NELF-E,RD,RDBP,RDP   \n",
       "1                      1102                            CHC1L,RLG   \n",
       "2                     51497               NELF-C,NELF-D,TH1,TH1L   \n",
       "3                     51497               NELF-C,NELF-D,TH1,TH1L   \n",
       "4                       472  AT1,ATA,ATC,ATD,ATDC,ATE,TEL1,TELO1   \n",
       "\n",
       "   Organism Interactor A Official Symbol Interactor B  \\\n",
       "0                   9606                        NELFB   \n",
       "1                   9606                       RCBTB2   \n",
       "2                   9606                        NELFE   \n",
       "3                   9606                        NELFB   \n",
       "4                   9606                          ATM   \n",
       "\n",
       "   Entrez Gene Interactor B                Synonyms Interactor B  \\\n",
       "0                     25920                        COBRA1,NELF-B   \n",
       "1                      1102                            CHC1L,RLG   \n",
       "2                      7936             D6S45,NELF-E,RD,RDBP,RDP   \n",
       "3                     25920                        COBRA1,NELF-B   \n",
       "4                       472  AT1,ATA,ATC,ATD,ATDC,ATE,TEL1,TELO1   \n",
       "\n",
       "   Organism Interactor B     Author  Pubmed ID  Experimental System  \\\n",
       "0                   9606  Lehner, B   14667819           Two-hybrid   \n",
       "1                   9606   Rual, JF   16189514           Two-hybrid   \n",
       "2                   9606  Ewing, RM   17353931  Affinity Capture-MS   \n",
       "3                   9606  Ewing, RM   17353931  Affinity Capture-MS   \n",
       "4                   9606    Kim, ST   10608806      Protein-peptide   \n",
       "\n",
       "  Experimental System Type       Throughput Publication Year  \n",
       "0                 physical   Low Throughput             2004  \n",
       "1                 physical  High Throughput             2005  \n",
       "2                 physical  High Throughput             2007  \n",
       "3                 physical  High Throughput             2007  \n",
       "4                 physical   Low Throughput             1999  "
      ]
     },
     "execution_count": 32,
     "metadata": {},
     "output_type": "execute_result"
    }
   ],
   "source": [
    "data.head()"
   ]
  },
  {
   "cell_type": "code",
   "execution_count": 33,
   "metadata": {},
   "outputs": [],
   "source": [
    "# Save in project folder\n",
    "data.to_csv('../data/clean/biogrid_ppi_data.csv', index=False)\n",
    "\n",
    "# Save to Neo4j imports folder for LOAD CSV command\n",
    "data.to_csv(importDir + 'biogrid_ppi_data.csv', index=False)"
   ]
  },
  {
   "cell_type": "code",
   "execution_count": 34,
   "metadata": {
    "scrolled": false
   },
   "outputs": [
    {
     "data": {
      "text/plain": [
       "Author          Pubmed ID\n",
       "Abdelmohsen, K  19322201     6\n",
       "Alkhaja, AK     22114354     1\n",
       "Arroyo, R       25640309     1\n",
       "Arumughan, A    27762274     2\n",
       "Banks, CA       27609421     7\n",
       "Name: Pubmed ID, dtype: int64"
      ]
     },
     "execution_count": 34,
     "metadata": {},
     "output_type": "execute_result"
    }
   ],
   "source": [
    "data.groupby('Author')['Pubmed ID'].value_counts()[:5]"
   ]
  },
  {
   "cell_type": "markdown",
   "metadata": {},
   "source": [
    "## HGNC API\n",
    "\n",
    "Parses XML from request to:\n",
    "https://www.genenames.org/help/rest/"
   ]
  },
  {
   "cell_type": "code",
   "execution_count": 11,
   "metadata": {},
   "outputs": [],
   "source": [
    "### Create new columns for gene: Gene Description, NCBI url, Locus type, Uniprot url, Wikipedia url, full sequence url, chromosome location, #bp\n",
    "### Create new columns for article: Article Title, Publication, Pubmed url\n",
    "# Create new column: subcellular location, condition, PTM/Processing"
   ]
  },
  {
   "cell_type": "code",
   "execution_count": 183,
   "metadata": {},
   "outputs": [],
   "source": [
    "gene = 'CYP1A2'\n",
    "\n",
    "url = f\"http://rest.genenames.org/fetch/symbol/{gene}\";\n",
    "r = requests.get(url)"
   ]
  },
  {
   "cell_type": "code",
   "execution_count": 184,
   "metadata": {},
   "outputs": [],
   "source": [
    "from xml.etree.ElementTree import fromstring, ElementTree\n",
    "tree = ElementTree(fromstring(r.text))\n",
    "root = tree.getroot()"
   ]
  },
  {
   "cell_type": "code",
   "execution_count": 185,
   "metadata": {},
   "outputs": [],
   "source": [
    "str_attribs = ['symbol', 'name', 'entrez_id', 'locus_type', 'location', 'ensembl_gene_id', \n",
    "                'locus_group']\n",
    "\n",
    "arr_attribs = ['pubmed_id', 'gene_group', 'uniprot_ids']"
   ]
  },
  {
   "cell_type": "code",
   "execution_count": 195,
   "metadata": {},
   "outputs": [],
   "source": [
    "gene_dict = dict()\n",
    "\n",
    "# retrieve <str> attributes\n",
    "for index, name in enumerate(str_attribs):\n",
    "    elements = root.findall(f\".//str[@name='{name}']\")\n",
    "    gene_dict[name] = [elements[0].text]\n",
    "\n",
    "# retrieve <arr> attributes\n",
    "for index, name in enumerate(arr_attribs):\n",
    "    elements = root.findall(f\".//arr[@name='{name}']/*\")\n",
    "    gene_dict[name] = [elements[0].text]"
   ]
  },
  {
   "cell_type": "code",
   "execution_count": 196,
   "metadata": {},
   "outputs": [
    {
     "data": {
      "text/plain": [
       "{'symbol': ['CYP1A2'],\n",
       " 'name': ['cytochrome P450 family 1 subfamily A member 2'],\n",
       " 'entrez_id': ['1544'],\n",
       " 'locus_type': ['gene with protein product'],\n",
       " 'location': ['15q24.1'],\n",
       " 'ensembl_gene_id': ['ENSG00000140505'],\n",
       " 'locus_group': ['protein-coding gene'],\n",
       " 'pubmed_id': ['15128046'],\n",
       " 'gene_group': ['Cytochrome P450 family 1'],\n",
       " 'uniprot_ids': ['P05177']}"
      ]
     },
     "execution_count": 196,
     "metadata": {},
     "output_type": "execute_result"
    }
   ],
   "source": [
    "gene_dict"
   ]
  },
  {
   "cell_type": "code",
   "execution_count": 197,
   "metadata": {},
   "outputs": [
    {
     "data": {
      "text/html": [
       "<div>\n",
       "<style scoped>\n",
       "    .dataframe tbody tr th:only-of-type {\n",
       "        vertical-align: middle;\n",
       "    }\n",
       "\n",
       "    .dataframe tbody tr th {\n",
       "        vertical-align: top;\n",
       "    }\n",
       "\n",
       "    .dataframe thead th {\n",
       "        text-align: right;\n",
       "    }\n",
       "</style>\n",
       "<table border=\"1\" class=\"dataframe\">\n",
       "  <thead>\n",
       "    <tr style=\"text-align: right;\">\n",
       "      <th></th>\n",
       "      <th>symbol</th>\n",
       "      <th>name</th>\n",
       "      <th>entrez_id</th>\n",
       "      <th>locus_type</th>\n",
       "      <th>location</th>\n",
       "      <th>ensembl_gene_id</th>\n",
       "      <th>locus_group</th>\n",
       "      <th>pubmed_id</th>\n",
       "      <th>gene_group</th>\n",
       "      <th>uniprot_ids</th>\n",
       "    </tr>\n",
       "  </thead>\n",
       "  <tbody>\n",
       "    <tr>\n",
       "      <th>0</th>\n",
       "      <td>CYP1A2</td>\n",
       "      <td>cytochrome P450 family 1 subfamily A member 2</td>\n",
       "      <td>1544</td>\n",
       "      <td>gene with protein product</td>\n",
       "      <td>15q24.1</td>\n",
       "      <td>ENSG00000140505</td>\n",
       "      <td>protein-coding gene</td>\n",
       "      <td>15128046</td>\n",
       "      <td>Cytochrome P450 family 1</td>\n",
       "      <td>P05177</td>\n",
       "    </tr>\n",
       "  </tbody>\n",
       "</table>\n",
       "</div>"
      ],
      "text/plain": [
       "   symbol                                           name entrez_id  \\\n",
       "0  CYP1A2  cytochrome P450 family 1 subfamily A member 2      1544   \n",
       "\n",
       "                  locus_type location  ensembl_gene_id          locus_group  \\\n",
       "0  gene with protein product  15q24.1  ENSG00000140505  protein-coding gene   \n",
       "\n",
       "  pubmed_id                gene_group uniprot_ids  \n",
       "0  15128046  Cytochrome P450 family 1      P05177  "
      ]
     },
     "execution_count": 197,
     "metadata": {},
     "output_type": "execute_result"
    }
   ],
   "source": [
    "pd.DataFrame.from_dict(gene_dict)"
   ]
  },
  {
   "cell_type": "code",
   "execution_count": null,
   "metadata": {},
   "outputs": [],
   "source": []
  }
 ],
 "metadata": {
  "kernelspec": {
   "display_name": "Python 3",
   "language": "python",
   "name": "python3"
  },
  "language_info": {
   "codemirror_mode": {
    "name": "ipython",
    "version": 3
   },
   "file_extension": ".py",
   "mimetype": "text/x-python",
   "name": "python",
   "nbconvert_exporter": "python",
   "pygments_lexer": "ipython3",
   "version": "3.7.6"
  }
 },
 "nbformat": 4,
 "nbformat_minor": 2
}
