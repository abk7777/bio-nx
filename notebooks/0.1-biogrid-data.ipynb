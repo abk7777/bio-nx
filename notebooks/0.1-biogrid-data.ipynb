{
 "cells": [
  {
   "cell_type": "markdown",
   "metadata": {},
   "source": [
    "# BioGRID Protein Interactions"
   ]
  },
  {
   "cell_type": "markdown",
   "metadata": {},
   "source": [
    "## Setup"
   ]
  },
  {
   "cell_type": "code",
   "execution_count": 1,
   "metadata": {},
   "outputs": [],
   "source": [
    "import os\n",
    "import sys\n",
    "sys.path[0] = '../'\n",
    "from dotenv import load_dotenv\n",
    "import numpy as np\n",
    "import pandas as pd\n",
    "import re\n",
    "from py2neo import Graph, Node, Relationship\n",
    "from py2neo.ogm import GraphObject, Property"
   ]
  },
  {
   "cell_type": "code",
   "execution_count": 2,
   "metadata": {},
   "outputs": [],
   "source": [
    "# Display options\n",
    "pd.options.display.max_rows = None  # display all rows\n",
    "pd.options.display.max_columns = None  # display all columns"
   ]
  },
  {
   "cell_type": "code",
   "execution_count": 3,
   "metadata": {},
   "outputs": [],
   "source": [
    "# Set access key for BioGRID REST API\n",
    "load_dotenv()\n",
    "BIOGRID_ACCESS_KEY = os.getenv('BIOGRID_ACCESS_KEY')\n",
    "NEO4J_HOME = os.getenv('NEO4J_HOME')\n",
    "importDir = '/Users/gregory/Library/Application Support/Neo4j Desktop/Application/neo4jDatabases/database-d0b780b3-ce77-46cc-b7ed-bd0f78a46581/installation-3.5.14/import/'"
   ]
  },
  {
   "cell_type": "markdown",
   "metadata": {},
   "source": [
    "## Import and Clean Data"
   ]
  },
  {
   "cell_type": "code",
   "execution_count": 4,
   "metadata": {},
   "outputs": [],
   "source": [
    "# Loads data and formats columns\n",
    "def load_data(gene_specifier):\n",
    "\n",
    "    if not isinstance(genes, list): \n",
    "        gene_specifier = gene_specifier\n",
    "    else:\n",
    "        gene_specifier = '|'.join(gene_specifier)\n",
    "    \n",
    "    url = f\"https://webservice.thebiogrid.org/interactions/?searchNames=true&geneList={gene_specifier}\" \\\n",
    "    \"&taxId=9606&includeInteractors=true&includeInteractorInteractions=true&includeHeader=true\" \\\n",
    "    f\"&accesskey={BIOGRID_ACCESS_KEY}\"\n",
    "\n",
    "    # Load data\n",
    "    data = pd.read_csv(url, sep='\\t', header=0)\n",
    "\n",
    "    # Remove leading hash character\n",
    "    data.rename(columns={\"#BioGRID Interaction ID\":\"BioGRID Interaction ID\"}, inplace=True)\n",
    "\n",
    "    # Replace pipe separators with commas\n",
    "    data = data.replace('\\|', ',', regex=True)\n",
    "\n",
    "    # Select str columns and replace '-' with np.nan\n",
    "    cols = ['Systematic Name Interactor A', \n",
    "          'Systematic Name Interactor B', \n",
    "          'Score', \n",
    "          'Modification', \n",
    "          'Phenotypes',\n",
    "          'Qualifications',\n",
    "          'Tags']\n",
    "\n",
    "    data[cols] = data[cols].applymap(lambda col: re.sub(r'^-$', str(np.NaN), col))\n",
    "       \n",
    "    return data"
   ]
  },
  {
   "cell_type": "code",
   "execution_count": 5,
   "metadata": {},
   "outputs": [],
   "source": [
    "# Selects and transforms columns\n",
    "def preprocess_data(data):\n",
    "    \n",
    "     # Convert Score column to float\n",
    "    data['Score'] = data['Score'].astype('float64')\n",
    "    \n",
    "    # Select columns of interest for graph\n",
    "    data = data[['BioGRID Interaction ID', 'Official Symbol Interactor A', 'Entrez Gene Interactor A', \n",
    "                       'Synonyms Interactor A', 'Organism Interactor A', 'Official Symbol Interactor B', \n",
    "                       'Entrez Gene Interactor B', 'Synonyms Interactor B', 'Organism Interactor B', \n",
    "                       'Author', 'Pubmed ID', 'Experimental System', 'Experimental System Type', 'Throughput']]\n",
    "\n",
    "    # Create Year column\n",
    "    data['Publication Year'] = data['Author'].str.split(' ').str[-1].str.strip('()')    \n",
    "    \n",
    "    # Remove Year from Author column\n",
    "    data['Author'] = data['Author'].str.split(' ').str[:2]\n",
    "    data['Author'] = data['Author'].apply(lambda x: ', '.join(x))\n",
    "    \n",
    "    return data"
   ]
  },
  {
   "cell_type": "code",
   "execution_count": 6,
   "metadata": {},
   "outputs": [
    {
     "name": "stderr",
     "output_type": "stream",
     "text": [
      "/Users/gregory/anaconda3/lib/python3.7/site-packages/ipykernel_launcher.py:14: SettingWithCopyWarning: \n",
      "A value is trying to be set on a copy of a slice from a DataFrame.\n",
      "Try using .loc[row_indexer,col_indexer] = value instead\n",
      "\n",
      "See the caveats in the documentation: https://pandas.pydata.org/pandas-docs/stable/user_guide/indexing.html#returning-a-view-versus-a-copy\n",
      "  \n",
      "/Users/gregory/anaconda3/lib/python3.7/site-packages/ipykernel_launcher.py:17: SettingWithCopyWarning: \n",
      "A value is trying to be set on a copy of a slice from a DataFrame.\n",
      "Try using .loc[row_indexer,col_indexer] = value instead\n",
      "\n",
      "See the caveats in the documentation: https://pandas.pydata.org/pandas-docs/stable/user_guide/indexing.html#returning-a-view-versus-a-copy\n",
      "/Users/gregory/anaconda3/lib/python3.7/site-packages/ipykernel_launcher.py:18: SettingWithCopyWarning: \n",
      "A value is trying to be set on a copy of a slice from a DataFrame.\n",
      "Try using .loc[row_indexer,col_indexer] = value instead\n",
      "\n",
      "See the caveats in the documentation: https://pandas.pydata.org/pandas-docs/stable/user_guide/indexing.html#returning-a-view-versus-a-copy\n"
     ]
    }
   ],
   "source": [
    "# Select gene; create for loop and append dataframes for multiple genes\n",
    "gene = 'CYP1A2'\n",
    "genes = ['FECH', 'POR', 'PGRMC1', 'CYP1A2', 'CYB5A']\n",
    "\n",
    "# Fetch and clean data\n",
    "data = load_data(genes)\n",
    "data = preprocess_data(data)"
   ]
  },
  {
   "cell_type": "code",
   "execution_count": 7,
   "metadata": {},
   "outputs": [
    {
     "data": {
      "text/plain": [
       "(4166, 15)"
      ]
     },
     "execution_count": 7,
     "metadata": {},
     "output_type": "execute_result"
    }
   ],
   "source": [
    "data.shape"
   ]
  },
  {
   "cell_type": "code",
   "execution_count": 8,
   "metadata": {
    "scrolled": false
   },
   "outputs": [
    {
     "data": {
      "text/html": [
       "<div>\n",
       "<style scoped>\n",
       "    .dataframe tbody tr th:only-of-type {\n",
       "        vertical-align: middle;\n",
       "    }\n",
       "\n",
       "    .dataframe tbody tr th {\n",
       "        vertical-align: top;\n",
       "    }\n",
       "\n",
       "    .dataframe thead th {\n",
       "        text-align: right;\n",
       "    }\n",
       "</style>\n",
       "<table border=\"1\" class=\"dataframe\">\n",
       "  <thead>\n",
       "    <tr style=\"text-align: right;\">\n",
       "      <th></th>\n",
       "      <th>BioGRID Interaction ID</th>\n",
       "      <th>Official Symbol Interactor A</th>\n",
       "      <th>Entrez Gene Interactor A</th>\n",
       "      <th>Synonyms Interactor A</th>\n",
       "      <th>Organism Interactor A</th>\n",
       "      <th>Official Symbol Interactor B</th>\n",
       "      <th>Entrez Gene Interactor B</th>\n",
       "      <th>Synonyms Interactor B</th>\n",
       "      <th>Organism Interactor B</th>\n",
       "      <th>Author</th>\n",
       "      <th>Pubmed ID</th>\n",
       "      <th>Experimental System</th>\n",
       "      <th>Experimental System Type</th>\n",
       "      <th>Throughput</th>\n",
       "      <th>Publication Year</th>\n",
       "    </tr>\n",
       "  </thead>\n",
       "  <tbody>\n",
       "    <tr>\n",
       "      <th>0</th>\n",
       "      <td>18063</td>\n",
       "      <td>MAP2K2</td>\n",
       "      <td>5605</td>\n",
       "      <td>CFC4,MAPKK2,MEK2,MKK2,PRKMK2</td>\n",
       "      <td>9606</td>\n",
       "      <td>ARAF</td>\n",
       "      <td>369</td>\n",
       "      <td>A-RAF,ARAF1,PKS2,RAFA1</td>\n",
       "      <td>9606</td>\n",
       "      <td>Yin, XL</td>\n",
       "      <td>11909642</td>\n",
       "      <td>Two-hybrid</td>\n",
       "      <td>physical</td>\n",
       "      <td>Low Throughput</td>\n",
       "      <td>2002</td>\n",
       "    </tr>\n",
       "    <tr>\n",
       "      <th>1</th>\n",
       "      <td>119392</td>\n",
       "      <td>NELFE</td>\n",
       "      <td>7936</td>\n",
       "      <td>D6S45,NELF-E,RD,RDBP,RDP</td>\n",
       "      <td>9606</td>\n",
       "      <td>NELFB</td>\n",
       "      <td>25920</td>\n",
       "      <td>COBRA1,NELF-B</td>\n",
       "      <td>9606</td>\n",
       "      <td>Lehner, B</td>\n",
       "      <td>14667819</td>\n",
       "      <td>Two-hybrid</td>\n",
       "      <td>physical</td>\n",
       "      <td>Low Throughput</td>\n",
       "      <td>2004</td>\n",
       "    </tr>\n",
       "    <tr>\n",
       "      <th>2</th>\n",
       "      <td>119626</td>\n",
       "      <td>EMC2</td>\n",
       "      <td>9694</td>\n",
       "      <td>KIAA0103,TTC35</td>\n",
       "      <td>9606</td>\n",
       "      <td>EMC8</td>\n",
       "      <td>10328</td>\n",
       "      <td>C16orf2,C16orf4,COX4NB,FAM158B,NOC4</td>\n",
       "      <td>9606</td>\n",
       "      <td>Rual, JF</td>\n",
       "      <td>16189514</td>\n",
       "      <td>Two-hybrid</td>\n",
       "      <td>physical</td>\n",
       "      <td>High Throughput</td>\n",
       "      <td>2005</td>\n",
       "    </tr>\n",
       "    <tr>\n",
       "      <th>3</th>\n",
       "      <td>120272</td>\n",
       "      <td>RCBTB2</td>\n",
       "      <td>1102</td>\n",
       "      <td>CHC1L,RLG</td>\n",
       "      <td>9606</td>\n",
       "      <td>RCBTB2</td>\n",
       "      <td>1102</td>\n",
       "      <td>CHC1L,RLG</td>\n",
       "      <td>9606</td>\n",
       "      <td>Rual, JF</td>\n",
       "      <td>16189514</td>\n",
       "      <td>Two-hybrid</td>\n",
       "      <td>physical</td>\n",
       "      <td>High Throughput</td>\n",
       "      <td>2005</td>\n",
       "    </tr>\n",
       "    <tr>\n",
       "      <th>4</th>\n",
       "      <td>120639</td>\n",
       "      <td>NDUFA5</td>\n",
       "      <td>4698</td>\n",
       "      <td>B13,CI-13KD-B,CI-13kB,NUFM,UQOR13</td>\n",
       "      <td>9606</td>\n",
       "      <td>NDUFB1</td>\n",
       "      <td>4707</td>\n",
       "      <td>CI-MNLL,CI-SGDH,MNLL</td>\n",
       "      <td>9606</td>\n",
       "      <td>Rual, JF</td>\n",
       "      <td>16189514</td>\n",
       "      <td>Two-hybrid</td>\n",
       "      <td>physical</td>\n",
       "      <td>High Throughput</td>\n",
       "      <td>2005</td>\n",
       "    </tr>\n",
       "  </tbody>\n",
       "</table>\n",
       "</div>"
      ],
      "text/plain": [
       "   BioGRID Interaction ID Official Symbol Interactor A  \\\n",
       "0                   18063                       MAP2K2   \n",
       "1                  119392                        NELFE   \n",
       "2                  119626                         EMC2   \n",
       "3                  120272                       RCBTB2   \n",
       "4                  120639                       NDUFA5   \n",
       "\n",
       "   Entrez Gene Interactor A              Synonyms Interactor A  \\\n",
       "0                      5605       CFC4,MAPKK2,MEK2,MKK2,PRKMK2   \n",
       "1                      7936           D6S45,NELF-E,RD,RDBP,RDP   \n",
       "2                      9694                     KIAA0103,TTC35   \n",
       "3                      1102                          CHC1L,RLG   \n",
       "4                      4698  B13,CI-13KD-B,CI-13kB,NUFM,UQOR13   \n",
       "\n",
       "   Organism Interactor A Official Symbol Interactor B  \\\n",
       "0                   9606                         ARAF   \n",
       "1                   9606                        NELFB   \n",
       "2                   9606                         EMC8   \n",
       "3                   9606                       RCBTB2   \n",
       "4                   9606                       NDUFB1   \n",
       "\n",
       "   Entrez Gene Interactor B                Synonyms Interactor B  \\\n",
       "0                       369               A-RAF,ARAF1,PKS2,RAFA1   \n",
       "1                     25920                        COBRA1,NELF-B   \n",
       "2                     10328  C16orf2,C16orf4,COX4NB,FAM158B,NOC4   \n",
       "3                      1102                            CHC1L,RLG   \n",
       "4                      4707                 CI-MNLL,CI-SGDH,MNLL   \n",
       "\n",
       "   Organism Interactor B     Author  Pubmed ID Experimental System  \\\n",
       "0                   9606    Yin, XL   11909642          Two-hybrid   \n",
       "1                   9606  Lehner, B   14667819          Two-hybrid   \n",
       "2                   9606   Rual, JF   16189514          Two-hybrid   \n",
       "3                   9606   Rual, JF   16189514          Two-hybrid   \n",
       "4                   9606   Rual, JF   16189514          Two-hybrid   \n",
       "\n",
       "  Experimental System Type       Throughput Publication Year  \n",
       "0                 physical   Low Throughput             2002  \n",
       "1                 physical   Low Throughput             2004  \n",
       "2                 physical  High Throughput             2005  \n",
       "3                 physical  High Throughput             2005  \n",
       "4                 physical  High Throughput             2005  "
      ]
     },
     "execution_count": 8,
     "metadata": {},
     "output_type": "execute_result"
    }
   ],
   "source": [
    "data.head()"
   ]
  },
  {
   "cell_type": "code",
   "execution_count": 14,
   "metadata": {},
   "outputs": [],
   "source": [
    "# Save in project folder\n",
    "data.to_csv('../data/clean/biogrid_ppi_data.csv', index=False)\n",
    "\n",
    "# Save to Neo4j imports folder for LOAD CSV command\n",
    "data.to_csv(importDir + 'biogrid_ppi_data.csv', index=False)"
   ]
  },
  {
   "cell_type": "code",
   "execution_count": 10,
   "metadata": {
    "scrolled": false
   },
   "outputs": [
    {
     "data": {
      "text/plain": [
       "Author          Pubmed ID\n",
       "Abbas, T        17361108      1\n",
       "Abdelmohsen, K  19322201      6\n",
       "Abe, F          19342655      1\n",
       "Abu-Odeh, M     24550385      6\n",
       "Adhikari, H     30194290     21\n",
       "Name: Pubmed ID, dtype: int64"
      ]
     },
     "execution_count": 10,
     "metadata": {},
     "output_type": "execute_result"
    }
   ],
   "source": [
    "data.groupby('Author')['Pubmed ID'].value_counts()[:5]"
   ]
  },
  {
   "cell_type": "markdown",
   "metadata": {},
   "source": [
    "## Web Crawler"
   ]
  },
  {
   "cell_type": "code",
   "execution_count": null,
   "metadata": {},
   "outputs": [],
   "source": [
    "### Create new columns for gene: Gene Description, NCBI url, Locus type, Uniprot url, Wikipedia url, full sequence url, chromosome location, #bp\n",
    "### Create new columns for article: Article Title, Publication, Pubmed url\n",
    "# Create new column: subcellular location, condition, PTM/Processing"
   ]
  }
 ],
 "metadata": {
  "kernelspec": {
   "display_name": "Python 3",
   "language": "python",
   "name": "python3"
  },
  "language_info": {
   "codemirror_mode": {
    "name": "ipython",
    "version": 3
   },
   "file_extension": ".py",
   "mimetype": "text/x-python",
   "name": "python",
   "nbconvert_exporter": "python",
   "pygments_lexer": "ipython3",
   "version": "3.7.6"
  }
 },
 "nbformat": 4,
 "nbformat_minor": 2
}
