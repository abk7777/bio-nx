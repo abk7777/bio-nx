{
 "cells": [
  {
   "cell_type": "markdown",
   "metadata": {},
   "source": [
    "# bioNX: Automated Knowledge Graph Construction for PPI Networks\n",
    "\n",
    "Given \n",
    "\n",
    "This notebook contains a workflow that integrates data from several sources:\n",
    "* [bioGRID](https://thebiogrid.org/) - primary data source for PPIs\n",
    "* [HGNC](https://www.genenames.org/) - Gene nomenclature reference\n",
    "* [PubMed](https://pubmed.ncbi.nlm.nih.gov/) - Literature\n",
    "* [Uniprot](https://www.uniprot.org/) - Protein properties (*pending implementation*)\n",
    "* [Entrez](https://www.ncbi.nlm.nih.gov/Web/Search/entrezfs.html) - Gene properties (*pending implementation*)\n",
    "* [GO](http://geneontology.org/) - Gene properties (*pending implementation*)\n",
    "\n",
    "*Please note this project is under development.*"
   ]
  },
  {
   "cell_type": "markdown",
   "metadata": {},
   "source": [
    "# Setup"
   ]
  },
  {
   "cell_type": "code",
   "execution_count": 1,
   "metadata": {},
   "outputs": [],
   "source": [
    "import os\n",
    "import sys\n",
    "sys.path[0] = '../'\n",
    "from dotenv import load_dotenv\n",
    "import numpy as np\n",
    "import pandas as pd\n",
    "import re\n",
    "import requests\n",
    "from xml.etree.ElementTree import fromstring, ElementTree\n",
    "import time"
   ]
  },
  {
   "cell_type": "code",
   "execution_count": 2,
   "metadata": {},
   "outputs": [],
   "source": [
    "# Display options\n",
    "pd.options.display.max_rows = None  # display all rows\n",
    "pd.options.display.max_columns = None  # display all columns"
   ]
  },
  {
   "cell_type": "code",
   "execution_count": 25,
   "metadata": {},
   "outputs": [],
   "source": [
    "# Set access key for BioGRID REST API\n",
    "load_dotenv()\n",
    "BIOGRID_ACCESS_KEY = os.getenv('BIOGRID_ACCESS_KEY')\n",
    "NEO4J_HOME = os.getenv('NEO4J_HOME')\n",
    "importDir = NEO4J_HOME.replace('\\\\', '') + 'import/'"
   ]
  },
  {
   "cell_type": "markdown",
   "metadata": {},
   "source": [
    "# Building the Base Graph\n",
    "\n",
    "Interaction data is fetched from the BioGRID API for a single gene and its protein-protein interactions (PPIs). The PPI dataset forms the core foundation upon which the knowledge graph is built. It is augmented using data fetched from additional sources."
   ]
  },
  {
   "cell_type": "code",
   "execution_count": 27,
   "metadata": {},
   "outputs": [],
   "source": [
    "# Loads data and formats columns\n",
    "def load_biogrid_data(gene_specifier, limit=10000):\n",
    "\n",
    "    if not isinstance(gene_specifier, list): \n",
    "        gene_specifier = gene_specifier\n",
    "    else:\n",
    "        gene_specifier = '|'.join(gene_specifier)\n",
    "    \n",
    "    url = f\"https://webservice.thebiogrid.org/interactions/?searchNames=true&geneList={gene_specifier}\" \\\n",
    "    \"&taxId=9606&includeInteractors=true&includeInteractorInteractions=true&includeHeader=true\" \\\n",
    "    f\"&accesskey={BIOGRID_ACCESS_KEY}&max={limit}\"\n",
    "\n",
    "    # Load data\n",
    "    data = pd.read_csv(url, sep='\\t', header=0)\n",
    "\n",
    "    # Remove leading hash character\n",
    "    data.rename(columns={\"#BioGRID Interaction ID\":\"BioGRID Interaction ID\"}, inplace=True)\n",
    "\n",
    "    # Replace pipe separators with commas\n",
    "    data = data.replace('\\|', ',', regex=True)\n",
    "\n",
    "    # Select str columns and replace '-' with np.nan\n",
    "    cols = ['Systematic Name Interactor A', \n",
    "          'Systematic Name Interactor B', \n",
    "          'Score', \n",
    "          'Modification', \n",
    "          'Phenotypes',\n",
    "          'Qualifications',\n",
    "          'Tags']\n",
    "\n",
    "    data[cols] = data[cols].applymap(lambda col: re.sub(r'^-$', str(np.NaN), col))\n",
    "       \n",
    "    return data"
   ]
  },
  {
   "cell_type": "code",
   "execution_count": 28,
   "metadata": {},
   "outputs": [],
   "source": [
    "# Selects and transforms columns\n",
    "def preprocess_biogrid_data(data):\n",
    "    \n",
    "     # Convert Score column to float\n",
    "    data['Score'] = data['Score'].astype('float64')\n",
    "    \n",
    "    # Select columns of interest for graph\n",
    "    data = data[['BioGRID Interaction ID', 'Official Symbol Interactor A', 'Entrez Gene Interactor A', \n",
    "                       'Synonyms Interactor A', 'Organism Interactor A', 'Official Symbol Interactor B', \n",
    "                       'Entrez Gene Interactor B', 'Synonyms Interactor B', 'Organism Interactor B', \n",
    "                       'Author', 'Pubmed ID', 'Experimental System', 'Experimental System Type', 'Throughput']]\n",
    "\n",
    "    # Create Year column\n",
    "    data['Publication Year'] = data['Author'].str.split(' ').str[-1].str.strip('()')    \n",
    "    \n",
    "    # Remove Year from Author column\n",
    "    data['Author'] = data['Author'].str.split(' ').str[:2]\n",
    "    data['Author'] = data['Author'].apply(lambda x: ', '.join(x))\n",
    "    \n",
    "    return data"
   ]
  },
  {
   "cell_type": "markdown",
   "metadata": {},
   "source": [
    "# Integrating Data from External APIs\n",
    "\n",
    "Fetching data from various APIs to build a table for genes:\n",
    "\n",
    "* HGNC\n",
    "* PubMed\n",
    "* Uniprot\n",
    "* Entrez"
   ]
  },
  {
   "cell_type": "code",
   "execution_count": 29,
   "metadata": {},
   "outputs": [],
   "source": [
    "### Create new columns for gene: Gene Description, NCBI url, Wikipedia url, full sequence url, chromosome, base pairs\n",
    "### Create new columns for article: Article Title, Publication, Pubmed url\n",
    "### Create new column: subcellular location, condition, PTM/Processing, chromosome"
   ]
  },
  {
   "cell_type": "markdown",
   "metadata": {},
   "source": [
    "## HGNC \n",
    "\n",
    "Parses XML from request. Documentation at:<br>\n",
    "https://www.genenames.org/help/rest/"
   ]
  },
  {
   "cell_type": "code",
   "execution_count": 30,
   "metadata": {},
   "outputs": [],
   "source": [
    "def fetch_hgnc_data(ppi_data):\n",
    "    \n",
    "    def build_gene_dict(gene):\n",
    "\n",
    "        url = f\"http://rest.genenames.org/fetch/symbol/{gene}\";\n",
    "        r = requests.get(url)\n",
    "\n",
    "        tree = ElementTree(fromstring(r.text))\n",
    "        root = tree.getroot()\n",
    "\n",
    "        str_attribs = ['symbol', 'name', 'entrez_id', 'locus_type', 'location', 'ensembl_gene_id', \n",
    "                    'locus_group']\n",
    "\n",
    "        arr_attribs = ['pubmed_id', 'gene_group', 'uniprot_ids', 'omim_id']\n",
    "\n",
    "        gene_dict = dict()\n",
    "\n",
    "        # retrieve <str> attributes\n",
    "        for index, name in enumerate(str_attribs):\n",
    "            elements = root.findall(f\".//str[@name='{name}']\") # add .upper() method to gene symbol\n",
    "            try:\n",
    "                gene_dict[name] = [elements[0].text]\n",
    "            except Exception as e:\n",
    "                #print(f\"Error: {e}\") # Log errors \n",
    "                gene_dict[name] = ['NULL'] ### Keep symbol if no record is available; some genes are new research; use synonyms\n",
    "                continue\n",
    "\n",
    "        # retrieve <arr> attributes\n",
    "        for index, name in enumerate(arr_attribs):\n",
    "            elements = root.findall(f\".//arr[@name='{name}']/*\")\n",
    "            try:\n",
    "                gene_dict[name] = [elements[0].text]\n",
    "            except Exception as e:\n",
    "                #print(f\"Error: {e}\") # Log errors \n",
    "                gene_dict[name] = ['NULL']\n",
    "                continue\n",
    "\n",
    "        return gene_dict\n",
    "    \n",
    "    def build_gene_dataframe(ppi_data):\n",
    "\n",
    "        genes = list(ppi_data['Official Symbol Interactor A'].unique())\n",
    "\n",
    "        gene_dict_list = []\n",
    "\n",
    "        for i, gene in enumerate(genes):\n",
    "            gene_dict = build_gene_dict(gene)\n",
    "            gene_dict_list.append(gene_dict)\n",
    "            \n",
    "            # Throttle to less than 10 requests per second\n",
    "            if i != 0 and i % 10 == 0:\n",
    "                time.sleep(.5)\n",
    "\n",
    "        merge_gene_dict = {}\n",
    "\n",
    "        for key in gene_dict_list[0].keys():\n",
    "            merge_gene_dict[key] = [gene_dict_list[i][key][0] for i in range(len(gene_dict_list))]\n",
    "\n",
    "        return pd.DataFrame(merge_gene_dict)\n",
    "    \n",
    "    return build_gene_dataframe(ppi_data)\n"
   ]
  },
  {
   "cell_type": "markdown",
   "metadata": {},
   "source": [
    "## Pubmed\n",
    "\n",
    "Example query: <br>\n",
    "https://eutils.ncbi.nlm.nih.gov/entrez/eutils/esummary.fcgi?db=pubmed&id=9806834 - 'pubmed_id'\n",
    "\n",
    "--> can fetch comma delimited list for id to retrieve all in one request"
   ]
  },
  {
   "cell_type": "code",
   "execution_count": 31,
   "metadata": {},
   "outputs": [],
   "source": [
    "def fetch_pubmed_data(data, column):\n",
    "    \n",
    "    def build_article_dict(pubmed_id, column):\n",
    "\n",
    "        url = f\"https://eutils.ncbi.nlm.nih.gov/entrez/eutils/esummary.fcgi?db=pubmed&id={pubmed_id}\";\n",
    "        r = requests.get(url)\n",
    "\n",
    "        tree = ElementTree(fromstring(r.text))\n",
    "        root = tree.getroot()\n",
    "\n",
    "        item_attribs = ['Title', 'FullJournalName', 'DOI']\n",
    "\n",
    "        article_dict = {column:[pubmed_id]}\n",
    "\n",
    "        # retrieve <Item> attributes\n",
    "        for index, Name in enumerate(item_attribs):\n",
    "            elements = root.findall(f\".//Item[@Name='{Name}']\") # add .upper() method to gene symbol\n",
    "            try:\n",
    "                article_dict[Name.lower()] = [elements[0].text]\n",
    "            except Exception as e:\n",
    "                print(f\"Error: {e}\") # Log errors \n",
    "                article_dict[Name.lower()] = ['NULL'] ### Keep symbol if no record is available; some genes are new research; use synonyms\n",
    "                continue\n",
    "\n",
    "        # Throttle to 10 requests per second\n",
    "        time.sleep(0.1)\n",
    "\n",
    "        article_dict['full_journal_name'] = article_dict.pop('fulljournalname')\n",
    "        \n",
    "        return article_dict\n",
    "    \n",
    "    def build_article_dataframe(data, column):\n",
    "\n",
    "        pubmed_id_list = list(data[column].unique())\n",
    "\n",
    "        article_dict_list = [build_article_dict(article, column) for article in pubmed_id_list]\n",
    "        #print(article_dict_list)\n",
    "        \n",
    "        merge_article_dict = {}\n",
    "\n",
    "        # Possible to use csv.writerows() for csv output\n",
    "        for item in article_dict_list:\n",
    "            #print(item)\n",
    "            for key in item.keys():\n",
    "                #print(key)\n",
    "                merge_article_dict[key] = [article_dict_list[i][key][0] for i in range(len(article_dict_list))]\n",
    "        \n",
    "        return pd.DataFrame(merge_article_dict)\n",
    "    \n",
    "    article_df = build_article_dataframe(data, column)\n",
    "    \n",
    "    return data.merge(article_df)\n",
    "    "
   ]
  },
  {
   "cell_type": "markdown",
   "metadata": {},
   "source": [
    "# Clean Final Data"
   ]
  },
  {
   "cell_type": "code",
   "execution_count": 32,
   "metadata": {},
   "outputs": [],
   "source": [
    "def final_process_data(data):\n",
    "    \n",
    "    def rename_columns(data):\n",
    "        data.columns = data.columns.str.lower().str.replace(' ', '_')\n",
    "        \n",
    "        return data\n",
    "\n",
    "    # Data cleaning pipeline\n",
    "    data = rename_columns(data)\n",
    "    \n",
    "    # Extract chromosome\n",
    "    \n",
    "    \n",
    "    return data"
   ]
  },
  {
   "cell_type": "markdown",
   "metadata": {},
   "source": [
    "# Generate the Knowledge Graph"
   ]
  },
  {
   "cell_type": "markdown",
   "metadata": {},
   "source": [
    "## Select Gene"
   ]
  },
  {
   "cell_type": "code",
   "execution_count": null,
   "metadata": {},
   "outputs": [],
   "source": [
    "gene = 'MTHFR'\n",
    "limit = 100"
   ]
  },
  {
   "cell_type": "markdown",
   "metadata": {},
   "source": [
    "## Run the Pipeline"
   ]
  },
  {
   "cell_type": "code",
   "execution_count": 33,
   "metadata": {
    "scrolled": false
   },
   "outputs": [
    {
     "name": "stderr",
     "output_type": "stream",
     "text": [
      "/Users/gregory/anaconda3/lib/python3.7/site-packages/ipykernel_launcher.py:14: SettingWithCopyWarning: \n",
      "A value is trying to be set on a copy of a slice from a DataFrame.\n",
      "Try using .loc[row_indexer,col_indexer] = value instead\n",
      "\n",
      "See the caveats in the documentation: https://pandas.pydata.org/pandas-docs/stable/user_guide/indexing.html#returning-a-view-versus-a-copy\n",
      "  \n",
      "/Users/gregory/anaconda3/lib/python3.7/site-packages/ipykernel_launcher.py:17: SettingWithCopyWarning: \n",
      "A value is trying to be set on a copy of a slice from a DataFrame.\n",
      "Try using .loc[row_indexer,col_indexer] = value instead\n",
      "\n",
      "See the caveats in the documentation: https://pandas.pydata.org/pandas-docs/stable/user_guide/indexing.html#returning-a-view-versus-a-copy\n",
      "/Users/gregory/anaconda3/lib/python3.7/site-packages/ipykernel_launcher.py:18: SettingWithCopyWarning: \n",
      "A value is trying to be set on a copy of a slice from a DataFrame.\n",
      "Try using .loc[row_indexer,col_indexer] = value instead\n",
      "\n",
      "See the caveats in the documentation: https://pandas.pydata.org/pandas-docs/stable/user_guide/indexing.html#returning-a-view-versus-a-copy\n"
     ]
    },
    {
     "name": "stdout",
     "output_type": "stream",
     "text": [
      "Error: list index out of range\n",
      "Error: list index out of range\n",
      "Error: list index out of range\n",
      "Error: list index out of range\n",
      "Error: list index out of range\n",
      "Error: list index out of range\n",
      "Error: list index out of range\n",
      "Error: list index out of range\n",
      "Error: list index out of range\n",
      "Error: list index out of range\n",
      "Error: list index out of range\n",
      "Error: list index out of range\n",
      "Error: list index out of range\n",
      "Error: list index out of range\n"
     ]
    }
   ],
   "source": [
    "# Fetch and clean interaction data from BioGRID\n",
    "ppi_data = load_biogrid_data(gene, limit=limit)\n",
    "ppi_data = preprocess_biogrid_data(ppi_data)\n",
    "\n",
    "# Fetch HGNC data for information on genes; time limit on requests s \n",
    "gene_data = fetch_hgnc_data(ppi_data)\n",
    "\n",
    "# Fetch PubMed data\n",
    "ppi_data = fetch_pubmed_data(ppi_data, 'Pubmed ID')\n",
    "gene_data = fetch_pubmed_data(gene_data, 'pubmed_id')\n",
    "\n",
    "# Final cleaning step\n",
    "ppi_data = final_process_data(ppi_data)\n",
    "gene_data = final_process_data(gene_data)\n",
    "\n",
    "# Save in project folder\n",
    "ppi_data.to_csv('../data/clean/biogrid_ppi_data.csv', index=False)\n",
    "gene_data.to_csv('../data/clean/gene_data.csv', index=False)\n",
    "\n",
    "# Save to Neo4j imports folder for LOAD CSV command\n",
    "ppi_data.to_csv(importDir + 'biogrid_ppi_data.csv', index=False)\n",
    "gene_data.to_csv(importDir + 'gene_data.csv', index=False)"
   ]
  }
 ],
 "metadata": {
  "kernelspec": {
   "display_name": "Python 3",
   "language": "python",
   "name": "python3"
  },
  "language_info": {
   "codemirror_mode": {
    "name": "ipython",
    "version": 3
   },
   "file_extension": ".py",
   "mimetype": "text/x-python",
   "name": "python",
   "nbconvert_exporter": "python",
   "pygments_lexer": "ipython3",
   "version": "3.7.6"
  }
 },
 "nbformat": 4,
 "nbformat_minor": 2
}
